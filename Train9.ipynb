{
 "cells": [
  {
   "cell_type": "markdown",
   "id": "2c4f8847-f192-4218-9cb3-6d2a9eec4b4c",
   "metadata": {},
   "source": [
    "## PARSEO "
   ]
  },
  {
   "cell_type": "code",
   "execution_count": 1,
   "id": "05e9c030-c92d-4cab-a45f-172155b1666e",
   "metadata": {},
   "outputs": [],
   "source": [
    "import json\n",
    "import os\n",
    "\n",
    "def extract_texts_and_boxes_from_json(json_path):\n",
    "    def find_texts_and_boxes(node):\n",
    "        texts = []\n",
    "        results = []\n",
    "        count = 0\n",
    "        if isinstance(node, dict):\n",
    "            # Extrae el campo 'text' si existe y no está vacío\n",
    "            if 'text' in node and isinstance(node['text'], str) and node['text'].strip().lower() not in ('', 'null', 'none'):\n",
    "                 if 'bounds' in node and isinstance(node['bounds'], list) and len(node['bounds']) == 4:\n",
    "                    x1, y1, x2, y2 = node['bounds']\n",
    "                    results.append((x1, y1, x2, y2, str(node['text']).strip()))\n",
    "               \n",
    "            # Recursividad: busca en todos los valores que sean dict o list\n",
    "            for value in node.values():\n",
    "                if isinstance(value, (dict, list)):\n",
    "                     results.extend(find_texts_and_boxes(value))\n",
    "        elif isinstance(node, list):\n",
    "            for item in node:\n",
    "                results.extend(find_texts_and_boxes(item))\n",
    "        return results\n",
    "\n",
    "    # Carga el JSON\n",
    "    with open(json_path, encoding='utf-8') as f:\n",
    "        data = json.load(f)\n",
    "\n",
    "    # Busca el nodo raíz correcto:\n",
    "    root = None\n",
    "    if 'activity' in data and 'root' in data['activity']:\n",
    "        root = data['activity']['root']\n",
    "    elif 'root' in data:\n",
    "        root = data['root']\n",
    "    else:\n",
    "        root = data  # Recorre todo si no encuentra la estructura esperada\n",
    "\n",
    "    results = find_texts_and_boxes(root)\n",
    "    # Filtra vacíos y nulos\n",
    "    #clean_texts = [t for t in texts if t and t.strip().lower() not in ('null', 'none')]\n",
    "    return results\n",
    "\n"
   ]
  },
  {
   "cell_type": "code",
   "execution_count": 3,
   "id": "2b1b6227-01ed-444a-91ed-73eb36e38cb2",
   "metadata": {},
   "outputs": [
    {
     "name": "stdout",
     "output_type": "stream",
     "text": [
      "[(148, 268, 1292, 387, 'User Licenses'), (99, 447, 1348, 2090, 'Copyright © 2005-2013, The Android Open Source Project \\n\\n Licensed under the Apache License, Version 2.0 (the License); you may not use this file except in compliance with the License. You may obtain a copy of the License at \\n\\n http://www.apache.org/licenses/LICENSE-2.0 \\n\\n Unless required by applicable law or agreed to in writing, software distributed under the License is distributed on an AS IS BASIS, WITHOUT WARRANTIES OR CONDITIONS OF ANY KIND, either express or implied. See the License for the specific language governing permissions and limitations under the License. \\n\\n Apache License \\n Version 2.0, January 2004 \\n http://www.apache.org/licenses/'), (92, 2092, 1348, 2260, 'OK')]\n"
     ]
    }
   ],
   "source": [
    "texto_extraido = extract_texts_and_boxes_from_json('D:/Dataset/combined/view_hierarchies/17.json')\n",
    "print(texto_extraido)"
   ]
  },
  {
   "cell_type": "code",
   "execution_count": 6,
   "id": "9d561f8d-3867-481e-81f9-4d1d62a3286c",
   "metadata": {},
   "outputs": [
    {
     "name": "stdout",
     "output_type": "stream",
     "text": [
      "Dataset OCR generado con 445 pares imagen/texto en \"ocr_dataset_boxes.csv\".\n"
     ]
    }
   ],
   "source": [
    "import csv\n",
    "import re\n",
    "\n",
    "DATA_DIR = 'D:/Downloads/unique_uis/combined_rico_test'   \n",
    "OUTPUT_CSV = 'ocr_dataset_boxes.csv'\n",
    "\n",
    "# Opcional: ignora imágenes con texto vacío\n",
    "SKIP_EMPTY = True\n",
    "\n",
    "# Caracteres a eliminar\n",
    "REMOVE_CHARS = r\"[\\/\\\\,;\\\"`]\"   # ajusta aquí lo que quieras eliminar\n",
    "\n",
    "rows = []\n",
    "for root, _, files in os.walk(DATA_DIR):\n",
    "    for fname in files:\n",
    "        if fname.lower().endswith(('.png', '.jpg')):\n",
    "            img_path = os.path.join(root, fname)\n",
    "            img_path_fixed = img_path.replace('\\\\', '/')\n",
    "            json_path = os.path.splitext(img_path)[0] + '.json'\n",
    "            if not os.path.exists(json_path):\n",
    "                continue\n",
    "            for x1, y1, x2, y2, text in extract_texts_and_boxes_from_json(json_path):\n",
    "                # Puedes limpiar texto si deseas aquí\n",
    "                if not text.strip():\n",
    "                    continue\n",
    "                rows.append([img_path_fixed, x1, y1, x2, y2, text.strip()])\n",
    "\n",
    "# Guardar CSV\n",
    "with open(OUTPUT_CSV, 'w', encoding='utf-8', newline='') as f:\n",
    "    writer = csv.writer(f)\n",
    "    writer.writerow(['image_path', 'x1', 'y1', 'x2', 'y2', 'text'])\n",
    "    writer.writerows(rows)\n",
    "\n",
    "print(f'Dataset OCR generado con {len(rows)} pares imagen/texto en \"{OUTPUT_CSV}\".')"
   ]
  },
  {
   "cell_type": "code",
   "execution_count": 7,
   "id": "8f0c45d7-87aa-4c5f-83ac-279d58ce4e5b",
   "metadata": {},
   "outputs": [],
   "source": [
    "def load_ocr_pairs_from_json(data_dir):\n",
    "    images, texts = [], []\n",
    "    for root, _, files in os.walk(data_dir):\n",
    "        for fname in files:\n",
    "            if fname.lower().endswith('.png') or fname.lower().endswith('.jpg'):\n",
    "                img_path = os.path.join(root, fname)\n",
    "                json_path = os.path.splitext(img_path)[0] + \".json\"\n",
    "                if not os.path.exists(json_path):\n",
    "                    continue\n",
    "                text = extract_all_texts_from_json(json_path)\n",
    "                if not text.strip():\n",
    "                    continue  # O puedes poner algún string por defecto\n",
    "                images.append(img_path)\n",
    "                texts.append(text.lower())\n",
    "    return images, texts\n"
   ]
  },
  {
   "cell_type": "code",
   "execution_count": 8,
   "id": "a94c78b8-57b2-4919-aa91-837222c3dae5",
   "metadata": {},
   "outputs": [],
   "source": [
    "import pandas as pd\n",
    "import re\n",
    "# Carga el CSV\n",
    "df = pd.read_csv('ocr_dataset_boxes.csv')"
   ]
  },
  {
   "cell_type": "code",
   "execution_count": 9,
   "id": "16fa1da6-7cda-4a78-92bf-a74752ce9f54",
   "metadata": {},
   "outputs": [],
   "source": [
    "# Elimina filas donde el texto sea vacío, nulo o solo espacios\n",
    "\n",
    "def clean_text(text):\n",
    "    if not isinstance(text, str):\n",
    "        return ''\n",
    "    # Elimina todos los caracteres que NO estén en el rango unicode \"latin basic\" o símbolos comunes\n",
    "    pattern = r'[^a-zA-Z0-9 .,:;!?@#%&()/\\'\"=_+\\[\\]{}<>|*$\\-\\\\]'\n",
    "    text = re.sub(pattern, '', text)\n",
    "    return text\n",
    "\n",
    "df['text'] = df['text'].apply(clean_text)\n",
    "df['text'] = df['text'].astype(str).str.replace(r'[\\r\\n]+', ' ', regex=True)\n",
    "df['text'] = df['text'].str.replace(r'\\s+', ' ', regex=True).str.strip()\n",
    "df = df[df['text'].apply(lambda x: isinstance(x, str) and x.strip() != \"\")]\n",
    "df = df[df['text'].apply(lambda x: isinstance(x, str) and len(x.strip()) > 0)]"
   ]
  },
  {
   "cell_type": "code",
   "execution_count": 10,
   "id": "418d7d2d-f74c-4a75-b884-14e57548a9a8",
   "metadata": {},
   "outputs": [
    {
     "name": "stdout",
     "output_type": "stream",
     "text": [
      "CSV limpio guardado. Total de ejemplos: 445\n"
     ]
    }
   ],
   "source": [
    "# (Opcional) Reinicia el índice\n",
    "df = df.reset_index(drop=True)\n",
    "\n",
    "# Guarda el CSV limpio (puedes sobrescribir el original)\n",
    "df.to_csv('ocr_dataset_boxes2.csv', index=False)\n",
    "\n",
    "print(f\"CSV limpio guardado. Total de ejemplos: {len(df)}\")"
   ]
  },
  {
   "cell_type": "code",
   "execution_count": 11,
   "id": "f1e7ae2e-f95b-40a7-bd5d-e8e4167d30b5",
   "metadata": {},
   "outputs": [
    {
     "name": "stdout",
     "output_type": "stream",
     "text": [
      "Filtrado por longitud >= 2. Total de ejemplos: 443\n"
     ]
    }
   ],
   "source": [
    "\n",
    "# Por ejemplo, filtra textos de al menos 5 caracteres (después de strip)\n",
    "longitud_minima = 2\n",
    "df = df[df['text'].apply(lambda x: isinstance(x, str) and len(x.strip()) >= longitud_minima)]\n",
    "\n",
    "# (Opcional) Reinicia el índice\n",
    "df = df.reset_index(drop=True)\n",
    "\n",
    "# Guarda el nuevo CSV filtrado\n",
    "df.to_csv('ocr_dataset_boxes3.csv', index=False)\n",
    "\n",
    "print(f\"Filtrado por longitud >= {longitud_minima}. Total de ejemplos: {len(df)}\")"
   ]
  },
  {
   "cell_type": "markdown",
   "id": "3624f5b6-a488-41e0-9c25-6859a50ee68d",
   "metadata": {},
   "source": [
    "# MODELO"
   ]
  },
  {
   "cell_type": "markdown",
   "id": "8a031cd3-ebcc-4248-8a27-6f4e0df30597",
   "metadata": {},
   "source": [
    "### Configuración "
   ]
  },
  {
   "cell_type": "code",
   "execution_count": 12,
   "id": "68a0c421-5c81-4be8-a75c-07d3c79b60bb",
   "metadata": {},
   "outputs": [
    {
     "name": "stdout",
     "output_type": "stream",
     "text": [
      "2.19.0\n"
     ]
    }
   ],
   "source": [
    "import cv2\n",
    "import numpy as np\n",
    "import pandas as pd\n",
    "from tensorflow.keras.utils import Sequence\n",
    "from tensorflow.keras import layers, models\n",
    "import tensorflow as tf\n",
    "from sklearn.model_selection import train_test_split\n",
    "\n",
    "print(tf.__version__)\n"
   ]
  },
  {
   "cell_type": "code",
   "execution_count": 13,
   "id": "adc5ad83-bd7f-4589-b9cc-e175002e5490",
   "metadata": {},
   "outputs": [],
   "source": [
    "# Configuración general\n",
    "IMAGE_HEIGHT = 32\n",
    "IMAGE_WIDTH = 128\n",
    "BATCH_SIZE = 16\n",
    "MAX_LABEL_LEN = 24  # Máxima longitud de texto"
   ]
  },
  {
   "cell_type": "code",
   "execution_count": 14,
   "id": "123d130a-b3f4-442a-b2be-98dbf05c65bc",
   "metadata": {},
   "outputs": [],
   "source": [
    "ALPHABET = \"abcdefghijklmnopqrstuvwxyz0123456789 .,:;!?@#%&()/\\\\'-_\"\n",
    "char_to_idx = {char: idx for idx, char in enumerate(ALPHABET)}  # 0 a N-1\n",
    "idx_to_char = {idx: char for idx, char in enumerate(ALPHABET)}\n",
    "num_classes = len(ALPHABET) + 1\n",
    "\n",
    "def text_to_labels(text):\n",
    "    return [char_to_idx.get(c, 0) for c in str(text).lower() if c in char_to_idx][:MAX_LABEL_LEN]\n",
    "\n",
    "def labels_to_text(labels):\n",
    "    return ''.join([idx_to_char.get(idx, '') for idx in labels if idx > 0])\n",
    "\n",
    "class OCRBoxDataGenerator(Sequence):\n",
    "    def __init__(self, csv_path, batch_size=16, image_height=32, image_width=128, max_label_len=24, char_to_idx=None):\n",
    "        self.data = pd.read_csv(csv_path)\n",
    "        self.batch_size = batch_size\n",
    "        self.image_height = image_height\n",
    "        self.image_width = image_width\n",
    "        self.max_label_len = max_label_len\n",
    "        self.char_to_idx = char_to_idx\n",
    "        self.indices = np.arange(len(self.data))\n",
    "        # Filtrar textos convertibles y regiones válidas\n",
    "        self.data = self.data[self.data['text'].apply(self._is_valid_text)].reset_index(drop=True)\n",
    "\n",
    "    def _is_valid_text(self, text):\n",
    "        labels = self.text_to_labels(str(text))\n",
    "        return 0 < len(labels) <= self.max_label_len\n",
    "\n",
    "    def text_to_labels(self, text):\n",
    "        labels = [self.char_to_idx[c] for c in str(text) if c in self.char_to_idx]\n",
    "        return labels[:self.max_label_len]\n",
    "\n",
    "    def __len__(self):\n",
    "        return int(np.ceil(len(self.data) / self.batch_size))\n",
    "\n",
    "    def __getitem__(self, idx):\n",
    "        start = idx * self.batch_size\n",
    "        end = min((idx + 1) * self.batch_size, len(self.data))\n",
    "        batch = self.data.iloc[start:end]\n",
    "        actual_batch_size = len(batch)\n",
    "        X = np.zeros((actual_batch_size, self.image_height, self.image_width, 1), dtype=np.float32)\n",
    "        Y = np.ones((actual_batch_size, self.max_label_len), dtype=np.int32) * 0\n",
    "        input_length = np.ones((actual_batch_size, 1), dtype=np.int32) * (self.image_width // 4)\n",
    "        label_length = np.zeros((actual_batch_size, 1), dtype=np.int32)\n",
    "        j = 0  \n",
    "        for _, row in batch.iterrows():\n",
    "            img = cv2.imread(row['image_path'], cv2.IMREAD_GRAYSCALE)\n",
    "            if img is None:\n",
    "                continue\n",
    "\n",
    "            # Si la imagen tiene 3 canales, conviértela a grises\n",
    "            if len(img.shape) == 3 and img.shape[2] == 3:\n",
    "                img = cv2.cvtColor(img, cv2.COLOR_BGR2GRAY)\n",
    "            elif len(img.shape) == 2:\n",
    "                pass  # ya es gris\n",
    "            else:\n",
    "                continue  # salta si la imagen tiene shape raro\n",
    "                \n",
    "            x1, y1, x2, y2 = int(row['x1']), int(row['y1']), int(row['x2']), int(row['y2'])\n",
    "            # Validar coordenadas\n",
    "            x1 = max(0, x1)\n",
    "            y1 = max(0, y1)\n",
    "            x2 = min(img.shape[1], x2)\n",
    "            y2 = min(img.shape[0], y2)\n",
    "            if x2 <= x1 or y2 <= y1:\n",
    "                continue\n",
    "            crop = img[y1:y2, x1:x2]\n",
    "            crop = cv2.resize(crop, (self.image_width, self.image_height)).astype('float32') / 255.0\n",
    "            #crop = np.expand_dims(crop, axis=-1)  # Para canal 1\n",
    "            X[j, :, :, 0] = crop\n",
    "            \n",
    "            labels = self.text_to_labels(str(row['text']))\n",
    "            labels = labels[:self.max_label_len]\n",
    "            if len(labels) == 0:\n",
    "                continue\n",
    "            Y[j, :len(labels)] = labels\n",
    "            label_length[j] = len(labels)\n",
    "            j += 1\n",
    "\n",
    "        X = X[:j]\n",
    "        Y = Y[:j]\n",
    "        input_length = input_length[:j]\n",
    "        label_length = label_length[:j]\n",
    "        return (X, Y, input_length, label_length), np.zeros(j)\n"
   ]
  },
  {
   "cell_type": "markdown",
   "id": "71af06be-a3ed-45bf-9757-99d6e334bc22",
   "metadata": {},
   "source": [
    "### División de CSV"
   ]
  },
  {
   "cell_type": "code",
   "execution_count": 15,
   "id": "75177f3e-0ec3-48ce-a43c-3b42c401eb26",
   "metadata": {},
   "outputs": [],
   "source": [
    "data = pd.read_csv('ocr_dataset_boxes3.csv')\n",
    "train_data, val_data = train_test_split(data, test_size=0.1, random_state=42)\n",
    "train_data.to_csv('ocr_train_boxes.csv', index=False)\n",
    "val_data.to_csv('ocr_val_boxes.csv', index=False)\n",
    "\n",
    "train_gen = OCRBoxDataGenerator('ocr_train_boxes.csv', batch_size=16,\n",
    "    image_height=32,\n",
    "    image_width=128,\n",
    "    max_label_len=24,\n",
    "    char_to_idx=char_to_idx)\n",
    "val_gen = OCRBoxDataGenerator('ocr_val_boxes.csv', batch_size=16,\n",
    "    image_height=32,\n",
    "    image_width=128,\n",
    "    max_label_len=24,\n",
    "    char_to_idx=char_to_idx)\n"
   ]
  },
  {
   "cell_type": "markdown",
   "id": "736e12ff-797f-4b7f-b513-7064af446e06",
   "metadata": {},
   "source": [
    "### Modelo CRNN + CTC"
   ]
  },
  {
   "cell_type": "code",
   "execution_count": 16,
   "id": "09729d58-f695-49d0-8b64-a38c22b1996a",
   "metadata": {},
   "outputs": [
    {
     "data": {
      "text/html": [
       "<pre style=\"white-space:pre;overflow-x:auto;line-height:normal;font-family:Menlo,'DejaVu Sans Mono',consolas,'Courier New',monospace\"><span style=\"font-weight: bold\">Model: \"functional_1\"</span>\n",
       "</pre>\n"
      ],
      "text/plain": [
       "\u001b[1mModel: \"functional_1\"\u001b[0m\n"
      ]
     },
     "metadata": {},
     "output_type": "display_data"
    },
    {
     "data": {
      "text/html": [
       "<pre style=\"white-space:pre;overflow-x:auto;line-height:normal;font-family:Menlo,'DejaVu Sans Mono',consolas,'Courier New',monospace\">┏━━━━━━━━━━━━━━━━━━━━━┳━━━━━━━━━━━━━━━━━━━┳━━━━━━━━━━━━┳━━━━━━━━━━━━━━━━━━━┓\n",
       "┃<span style=\"font-weight: bold\"> Layer (type)        </span>┃<span style=\"font-weight: bold\"> Output Shape      </span>┃<span style=\"font-weight: bold\">    Param # </span>┃<span style=\"font-weight: bold\"> Connected to      </span>┃\n",
       "┡━━━━━━━━━━━━━━━━━━━━━╇━━━━━━━━━━━━━━━━━━━╇━━━━━━━━━━━━╇━━━━━━━━━━━━━━━━━━━┩\n",
       "│ image (<span style=\"color: #0087ff; text-decoration-color: #0087ff\">InputLayer</span>)  │ (<span style=\"color: #00d7ff; text-decoration-color: #00d7ff\">None</span>, <span style=\"color: #00af00; text-decoration-color: #00af00\">32</span>, <span style=\"color: #00af00; text-decoration-color: #00af00\">128</span>,   │          <span style=\"color: #00af00; text-decoration-color: #00af00\">0</span> │ -                 │\n",
       "│                     │ <span style=\"color: #00af00; text-decoration-color: #00af00\">1</span>)                │            │                   │\n",
       "├─────────────────────┼───────────────────┼────────────┼───────────────────┤\n",
       "│ conv2d (<span style=\"color: #0087ff; text-decoration-color: #0087ff\">Conv2D</span>)     │ (<span style=\"color: #00d7ff; text-decoration-color: #00d7ff\">None</span>, <span style=\"color: #00af00; text-decoration-color: #00af00\">32</span>, <span style=\"color: #00af00; text-decoration-color: #00af00\">128</span>,   │        <span style=\"color: #00af00; text-decoration-color: #00af00\">640</span> │ image[<span style=\"color: #00af00; text-decoration-color: #00af00\">0</span>][<span style=\"color: #00af00; text-decoration-color: #00af00\">0</span>]       │\n",
       "│                     │ <span style=\"color: #00af00; text-decoration-color: #00af00\">64</span>)               │            │                   │\n",
       "├─────────────────────┼───────────────────┼────────────┼───────────────────┤\n",
       "│ max_pooling2d       │ (<span style=\"color: #00d7ff; text-decoration-color: #00d7ff\">None</span>, <span style=\"color: #00af00; text-decoration-color: #00af00\">16</span>, <span style=\"color: #00af00; text-decoration-color: #00af00\">64</span>,    │          <span style=\"color: #00af00; text-decoration-color: #00af00\">0</span> │ conv2d[<span style=\"color: #00af00; text-decoration-color: #00af00\">0</span>][<span style=\"color: #00af00; text-decoration-color: #00af00\">0</span>]      │\n",
       "│ (<span style=\"color: #0087ff; text-decoration-color: #0087ff\">MaxPooling2D</span>)      │ <span style=\"color: #00af00; text-decoration-color: #00af00\">64</span>)               │            │                   │\n",
       "├─────────────────────┼───────────────────┼────────────┼───────────────────┤\n",
       "│ conv2d_1 (<span style=\"color: #0087ff; text-decoration-color: #0087ff\">Conv2D</span>)   │ (<span style=\"color: #00d7ff; text-decoration-color: #00d7ff\">None</span>, <span style=\"color: #00af00; text-decoration-color: #00af00\">16</span>, <span style=\"color: #00af00; text-decoration-color: #00af00\">64</span>,    │     <span style=\"color: #00af00; text-decoration-color: #00af00\">36,928</span> │ max_pooling2d[<span style=\"color: #00af00; text-decoration-color: #00af00\">0</span>]… │\n",
       "│                     │ <span style=\"color: #00af00; text-decoration-color: #00af00\">64</span>)               │            │                   │\n",
       "├─────────────────────┼───────────────────┼────────────┼───────────────────┤\n",
       "│ max_pooling2d_1     │ (<span style=\"color: #00d7ff; text-decoration-color: #00d7ff\">None</span>, <span style=\"color: #00af00; text-decoration-color: #00af00\">8</span>, <span style=\"color: #00af00; text-decoration-color: #00af00\">32</span>, <span style=\"color: #00af00; text-decoration-color: #00af00\">64</span>) │          <span style=\"color: #00af00; text-decoration-color: #00af00\">0</span> │ conv2d_1[<span style=\"color: #00af00; text-decoration-color: #00af00\">0</span>][<span style=\"color: #00af00; text-decoration-color: #00af00\">0</span>]    │\n",
       "│ (<span style=\"color: #0087ff; text-decoration-color: #0087ff\">MaxPooling2D</span>)      │                   │            │                   │\n",
       "├─────────────────────┼───────────────────┼────────────┼───────────────────┤\n",
       "│ conv2d_2 (<span style=\"color: #0087ff; text-decoration-color: #0087ff\">Conv2D</span>)   │ (<span style=\"color: #00d7ff; text-decoration-color: #00d7ff\">None</span>, <span style=\"color: #00af00; text-decoration-color: #00af00\">8</span>, <span style=\"color: #00af00; text-decoration-color: #00af00\">32</span>,     │     <span style=\"color: #00af00; text-decoration-color: #00af00\">73,856</span> │ max_pooling2d_1[<span style=\"color: #00af00; text-decoration-color: #00af00\">…</span> │\n",
       "│                     │ <span style=\"color: #00af00; text-decoration-color: #00af00\">128</span>)              │            │                   │\n",
       "├─────────────────────┼───────────────────┼────────────┼───────────────────┤\n",
       "│ batch_normalization │ (<span style=\"color: #00d7ff; text-decoration-color: #00d7ff\">None</span>, <span style=\"color: #00af00; text-decoration-color: #00af00\">8</span>, <span style=\"color: #00af00; text-decoration-color: #00af00\">32</span>,     │        <span style=\"color: #00af00; text-decoration-color: #00af00\">512</span> │ conv2d_2[<span style=\"color: #00af00; text-decoration-color: #00af00\">0</span>][<span style=\"color: #00af00; text-decoration-color: #00af00\">0</span>]    │\n",
       "│ (<span style=\"color: #0087ff; text-decoration-color: #0087ff\">BatchNormalizatio…</span> │ <span style=\"color: #00af00; text-decoration-color: #00af00\">128</span>)              │            │                   │\n",
       "├─────────────────────┼───────────────────┼────────────┼───────────────────┤\n",
       "│ max_pooling2d_2     │ (<span style=\"color: #00d7ff; text-decoration-color: #00d7ff\">None</span>, <span style=\"color: #00af00; text-decoration-color: #00af00\">4</span>, <span style=\"color: #00af00; text-decoration-color: #00af00\">32</span>,     │          <span style=\"color: #00af00; text-decoration-color: #00af00\">0</span> │ batch_normalizat… │\n",
       "│ (<span style=\"color: #0087ff; text-decoration-color: #0087ff\">MaxPooling2D</span>)      │ <span style=\"color: #00af00; text-decoration-color: #00af00\">128</span>)              │            │                   │\n",
       "├─────────────────────┼───────────────────┼────────────┼───────────────────┤\n",
       "│ reshape (<span style=\"color: #0087ff; text-decoration-color: #0087ff\">Reshape</span>)   │ (<span style=\"color: #00d7ff; text-decoration-color: #00d7ff\">None</span>, <span style=\"color: #00af00; text-decoration-color: #00af00\">32</span>, <span style=\"color: #00af00; text-decoration-color: #00af00\">512</span>)   │          <span style=\"color: #00af00; text-decoration-color: #00af00\">0</span> │ max_pooling2d_2[<span style=\"color: #00af00; text-decoration-color: #00af00\">…</span> │\n",
       "├─────────────────────┼───────────────────┼────────────┼───────────────────┤\n",
       "│ dense (<span style=\"color: #0087ff; text-decoration-color: #0087ff\">Dense</span>)       │ (<span style=\"color: #00d7ff; text-decoration-color: #00d7ff\">None</span>, <span style=\"color: #00af00; text-decoration-color: #00af00\">32</span>, <span style=\"color: #00af00; text-decoration-color: #00af00\">64</span>)    │     <span style=\"color: #00af00; text-decoration-color: #00af00\">32,832</span> │ reshape[<span style=\"color: #00af00; text-decoration-color: #00af00\">0</span>][<span style=\"color: #00af00; text-decoration-color: #00af00\">0</span>]     │\n",
       "├─────────────────────┼───────────────────┼────────────┼───────────────────┤\n",
       "│ bidirectional       │ (<span style=\"color: #00d7ff; text-decoration-color: #00d7ff\">None</span>, <span style=\"color: #00af00; text-decoration-color: #00af00\">32</span>, <span style=\"color: #00af00; text-decoration-color: #00af00\">512</span>)   │    <span style=\"color: #00af00; text-decoration-color: #00af00\">657,408</span> │ dense[<span style=\"color: #00af00; text-decoration-color: #00af00\">0</span>][<span style=\"color: #00af00; text-decoration-color: #00af00\">0</span>]       │\n",
       "│ (<span style=\"color: #0087ff; text-decoration-color: #0087ff\">Bidirectional</span>)     │                   │            │                   │\n",
       "├─────────────────────┼───────────────────┼────────────┼───────────────────┤\n",
       "│ dropout (<span style=\"color: #0087ff; text-decoration-color: #0087ff\">Dropout</span>)   │ (<span style=\"color: #00d7ff; text-decoration-color: #00d7ff\">None</span>, <span style=\"color: #00af00; text-decoration-color: #00af00\">32</span>, <span style=\"color: #00af00; text-decoration-color: #00af00\">512</span>)   │          <span style=\"color: #00af00; text-decoration-color: #00af00\">0</span> │ bidirectional[<span style=\"color: #00af00; text-decoration-color: #00af00\">0</span>]… │\n",
       "├─────────────────────┼───────────────────┼────────────┼───────────────────┤\n",
       "│ dense_1 (<span style=\"color: #0087ff; text-decoration-color: #0087ff\">Dense</span>)     │ (<span style=\"color: #00d7ff; text-decoration-color: #00d7ff\">None</span>, <span style=\"color: #00af00; text-decoration-color: #00af00\">32</span>, <span style=\"color: #00af00; text-decoration-color: #00af00\">55</span>)    │     <span style=\"color: #00af00; text-decoration-color: #00af00\">28,215</span> │ dropout[<span style=\"color: #00af00; text-decoration-color: #00af00\">0</span>][<span style=\"color: #00af00; text-decoration-color: #00af00\">0</span>]     │\n",
       "├─────────────────────┼───────────────────┼────────────┼───────────────────┤\n",
       "│ labels (<span style=\"color: #0087ff; text-decoration-color: #0087ff\">InputLayer</span>) │ (<span style=\"color: #00d7ff; text-decoration-color: #00d7ff\">None</span>, <span style=\"color: #00af00; text-decoration-color: #00af00\">24</span>)        │          <span style=\"color: #00af00; text-decoration-color: #00af00\">0</span> │ -                 │\n",
       "├─────────────────────┼───────────────────┼────────────┼───────────────────┤\n",
       "│ input_length        │ (<span style=\"color: #00d7ff; text-decoration-color: #00d7ff\">None</span>, <span style=\"color: #00af00; text-decoration-color: #00af00\">1</span>)         │          <span style=\"color: #00af00; text-decoration-color: #00af00\">0</span> │ -                 │\n",
       "│ (<span style=\"color: #0087ff; text-decoration-color: #0087ff\">InputLayer</span>)        │                   │            │                   │\n",
       "├─────────────────────┼───────────────────┼────────────┼───────────────────┤\n",
       "│ label_length        │ (<span style=\"color: #00d7ff; text-decoration-color: #00d7ff\">None</span>, <span style=\"color: #00af00; text-decoration-color: #00af00\">1</span>)         │          <span style=\"color: #00af00; text-decoration-color: #00af00\">0</span> │ -                 │\n",
       "│ (<span style=\"color: #0087ff; text-decoration-color: #0087ff\">InputLayer</span>)        │                   │            │                   │\n",
       "├─────────────────────┼───────────────────┼────────────┼───────────────────┤\n",
       "│ ctc (<span style=\"color: #0087ff; text-decoration-color: #0087ff\">Lambda</span>)        │ (<span style=\"color: #00d7ff; text-decoration-color: #00d7ff\">None</span>, <span style=\"color: #00af00; text-decoration-color: #00af00\">1</span>)         │          <span style=\"color: #00af00; text-decoration-color: #00af00\">0</span> │ dense_1[<span style=\"color: #00af00; text-decoration-color: #00af00\">0</span>][<span style=\"color: #00af00; text-decoration-color: #00af00\">0</span>],    │\n",
       "│                     │                   │            │ labels[<span style=\"color: #00af00; text-decoration-color: #00af00\">0</span>][<span style=\"color: #00af00; text-decoration-color: #00af00\">0</span>],     │\n",
       "│                     │                   │            │ input_length[<span style=\"color: #00af00; text-decoration-color: #00af00\">0</span>][<span style=\"color: #00af00; text-decoration-color: #00af00\">…</span> │\n",
       "│                     │                   │            │ label_length[<span style=\"color: #00af00; text-decoration-color: #00af00\">0</span>][<span style=\"color: #00af00; text-decoration-color: #00af00\">…</span> │\n",
       "└─────────────────────┴───────────────────┴────────────┴───────────────────┘\n",
       "</pre>\n"
      ],
      "text/plain": [
       "┏━━━━━━━━━━━━━━━━━━━━━┳━━━━━━━━━━━━━━━━━━━┳━━━━━━━━━━━━┳━━━━━━━━━━━━━━━━━━━┓\n",
       "┃\u001b[1m \u001b[0m\u001b[1mLayer (type)       \u001b[0m\u001b[1m \u001b[0m┃\u001b[1m \u001b[0m\u001b[1mOutput Shape     \u001b[0m\u001b[1m \u001b[0m┃\u001b[1m \u001b[0m\u001b[1m   Param #\u001b[0m\u001b[1m \u001b[0m┃\u001b[1m \u001b[0m\u001b[1mConnected to     \u001b[0m\u001b[1m \u001b[0m┃\n",
       "┡━━━━━━━━━━━━━━━━━━━━━╇━━━━━━━━━━━━━━━━━━━╇━━━━━━━━━━━━╇━━━━━━━━━━━━━━━━━━━┩\n",
       "│ image (\u001b[38;5;33mInputLayer\u001b[0m)  │ (\u001b[38;5;45mNone\u001b[0m, \u001b[38;5;34m32\u001b[0m, \u001b[38;5;34m128\u001b[0m,   │          \u001b[38;5;34m0\u001b[0m │ -                 │\n",
       "│                     │ \u001b[38;5;34m1\u001b[0m)                │            │                   │\n",
       "├─────────────────────┼───────────────────┼────────────┼───────────────────┤\n",
       "│ conv2d (\u001b[38;5;33mConv2D\u001b[0m)     │ (\u001b[38;5;45mNone\u001b[0m, \u001b[38;5;34m32\u001b[0m, \u001b[38;5;34m128\u001b[0m,   │        \u001b[38;5;34m640\u001b[0m │ image[\u001b[38;5;34m0\u001b[0m][\u001b[38;5;34m0\u001b[0m]       │\n",
       "│                     │ \u001b[38;5;34m64\u001b[0m)               │            │                   │\n",
       "├─────────────────────┼───────────────────┼────────────┼───────────────────┤\n",
       "│ max_pooling2d       │ (\u001b[38;5;45mNone\u001b[0m, \u001b[38;5;34m16\u001b[0m, \u001b[38;5;34m64\u001b[0m,    │          \u001b[38;5;34m0\u001b[0m │ conv2d[\u001b[38;5;34m0\u001b[0m][\u001b[38;5;34m0\u001b[0m]      │\n",
       "│ (\u001b[38;5;33mMaxPooling2D\u001b[0m)      │ \u001b[38;5;34m64\u001b[0m)               │            │                   │\n",
       "├─────────────────────┼───────────────────┼────────────┼───────────────────┤\n",
       "│ conv2d_1 (\u001b[38;5;33mConv2D\u001b[0m)   │ (\u001b[38;5;45mNone\u001b[0m, \u001b[38;5;34m16\u001b[0m, \u001b[38;5;34m64\u001b[0m,    │     \u001b[38;5;34m36,928\u001b[0m │ max_pooling2d[\u001b[38;5;34m0\u001b[0m]… │\n",
       "│                     │ \u001b[38;5;34m64\u001b[0m)               │            │                   │\n",
       "├─────────────────────┼───────────────────┼────────────┼───────────────────┤\n",
       "│ max_pooling2d_1     │ (\u001b[38;5;45mNone\u001b[0m, \u001b[38;5;34m8\u001b[0m, \u001b[38;5;34m32\u001b[0m, \u001b[38;5;34m64\u001b[0m) │          \u001b[38;5;34m0\u001b[0m │ conv2d_1[\u001b[38;5;34m0\u001b[0m][\u001b[38;5;34m0\u001b[0m]    │\n",
       "│ (\u001b[38;5;33mMaxPooling2D\u001b[0m)      │                   │            │                   │\n",
       "├─────────────────────┼───────────────────┼────────────┼───────────────────┤\n",
       "│ conv2d_2 (\u001b[38;5;33mConv2D\u001b[0m)   │ (\u001b[38;5;45mNone\u001b[0m, \u001b[38;5;34m8\u001b[0m, \u001b[38;5;34m32\u001b[0m,     │     \u001b[38;5;34m73,856\u001b[0m │ max_pooling2d_1[\u001b[38;5;34m…\u001b[0m │\n",
       "│                     │ \u001b[38;5;34m128\u001b[0m)              │            │                   │\n",
       "├─────────────────────┼───────────────────┼────────────┼───────────────────┤\n",
       "│ batch_normalization │ (\u001b[38;5;45mNone\u001b[0m, \u001b[38;5;34m8\u001b[0m, \u001b[38;5;34m32\u001b[0m,     │        \u001b[38;5;34m512\u001b[0m │ conv2d_2[\u001b[38;5;34m0\u001b[0m][\u001b[38;5;34m0\u001b[0m]    │\n",
       "│ (\u001b[38;5;33mBatchNormalizatio…\u001b[0m │ \u001b[38;5;34m128\u001b[0m)              │            │                   │\n",
       "├─────────────────────┼───────────────────┼────────────┼───────────────────┤\n",
       "│ max_pooling2d_2     │ (\u001b[38;5;45mNone\u001b[0m, \u001b[38;5;34m4\u001b[0m, \u001b[38;5;34m32\u001b[0m,     │          \u001b[38;5;34m0\u001b[0m │ batch_normalizat… │\n",
       "│ (\u001b[38;5;33mMaxPooling2D\u001b[0m)      │ \u001b[38;5;34m128\u001b[0m)              │            │                   │\n",
       "├─────────────────────┼───────────────────┼────────────┼───────────────────┤\n",
       "│ reshape (\u001b[38;5;33mReshape\u001b[0m)   │ (\u001b[38;5;45mNone\u001b[0m, \u001b[38;5;34m32\u001b[0m, \u001b[38;5;34m512\u001b[0m)   │          \u001b[38;5;34m0\u001b[0m │ max_pooling2d_2[\u001b[38;5;34m…\u001b[0m │\n",
       "├─────────────────────┼───────────────────┼────────────┼───────────────────┤\n",
       "│ dense (\u001b[38;5;33mDense\u001b[0m)       │ (\u001b[38;5;45mNone\u001b[0m, \u001b[38;5;34m32\u001b[0m, \u001b[38;5;34m64\u001b[0m)    │     \u001b[38;5;34m32,832\u001b[0m │ reshape[\u001b[38;5;34m0\u001b[0m][\u001b[38;5;34m0\u001b[0m]     │\n",
       "├─────────────────────┼───────────────────┼────────────┼───────────────────┤\n",
       "│ bidirectional       │ (\u001b[38;5;45mNone\u001b[0m, \u001b[38;5;34m32\u001b[0m, \u001b[38;5;34m512\u001b[0m)   │    \u001b[38;5;34m657,408\u001b[0m │ dense[\u001b[38;5;34m0\u001b[0m][\u001b[38;5;34m0\u001b[0m]       │\n",
       "│ (\u001b[38;5;33mBidirectional\u001b[0m)     │                   │            │                   │\n",
       "├─────────────────────┼───────────────────┼────────────┼───────────────────┤\n",
       "│ dropout (\u001b[38;5;33mDropout\u001b[0m)   │ (\u001b[38;5;45mNone\u001b[0m, \u001b[38;5;34m32\u001b[0m, \u001b[38;5;34m512\u001b[0m)   │          \u001b[38;5;34m0\u001b[0m │ bidirectional[\u001b[38;5;34m0\u001b[0m]… │\n",
       "├─────────────────────┼───────────────────┼────────────┼───────────────────┤\n",
       "│ dense_1 (\u001b[38;5;33mDense\u001b[0m)     │ (\u001b[38;5;45mNone\u001b[0m, \u001b[38;5;34m32\u001b[0m, \u001b[38;5;34m55\u001b[0m)    │     \u001b[38;5;34m28,215\u001b[0m │ dropout[\u001b[38;5;34m0\u001b[0m][\u001b[38;5;34m0\u001b[0m]     │\n",
       "├─────────────────────┼───────────────────┼────────────┼───────────────────┤\n",
       "│ labels (\u001b[38;5;33mInputLayer\u001b[0m) │ (\u001b[38;5;45mNone\u001b[0m, \u001b[38;5;34m24\u001b[0m)        │          \u001b[38;5;34m0\u001b[0m │ -                 │\n",
       "├─────────────────────┼───────────────────┼────────────┼───────────────────┤\n",
       "│ input_length        │ (\u001b[38;5;45mNone\u001b[0m, \u001b[38;5;34m1\u001b[0m)         │          \u001b[38;5;34m0\u001b[0m │ -                 │\n",
       "│ (\u001b[38;5;33mInputLayer\u001b[0m)        │                   │            │                   │\n",
       "├─────────────────────┼───────────────────┼────────────┼───────────────────┤\n",
       "│ label_length        │ (\u001b[38;5;45mNone\u001b[0m, \u001b[38;5;34m1\u001b[0m)         │          \u001b[38;5;34m0\u001b[0m │ -                 │\n",
       "│ (\u001b[38;5;33mInputLayer\u001b[0m)        │                   │            │                   │\n",
       "├─────────────────────┼───────────────────┼────────────┼───────────────────┤\n",
       "│ ctc (\u001b[38;5;33mLambda\u001b[0m)        │ (\u001b[38;5;45mNone\u001b[0m, \u001b[38;5;34m1\u001b[0m)         │          \u001b[38;5;34m0\u001b[0m │ dense_1[\u001b[38;5;34m0\u001b[0m][\u001b[38;5;34m0\u001b[0m],    │\n",
       "│                     │                   │            │ labels[\u001b[38;5;34m0\u001b[0m][\u001b[38;5;34m0\u001b[0m],     │\n",
       "│                     │                   │            │ input_length[\u001b[38;5;34m0\u001b[0m][\u001b[38;5;34m…\u001b[0m │\n",
       "│                     │                   │            │ label_length[\u001b[38;5;34m0\u001b[0m][\u001b[38;5;34m…\u001b[0m │\n",
       "└─────────────────────┴───────────────────┴────────────┴───────────────────┘\n"
      ]
     },
     "metadata": {},
     "output_type": "display_data"
    },
    {
     "data": {
      "text/html": [
       "<pre style=\"white-space:pre;overflow-x:auto;line-height:normal;font-family:Menlo,'DejaVu Sans Mono',consolas,'Courier New',monospace\"><span style=\"font-weight: bold\"> Total params: </span><span style=\"color: #00af00; text-decoration-color: #00af00\">830,391</span> (3.17 MB)\n",
       "</pre>\n"
      ],
      "text/plain": [
       "\u001b[1m Total params: \u001b[0m\u001b[38;5;34m830,391\u001b[0m (3.17 MB)\n"
      ]
     },
     "metadata": {},
     "output_type": "display_data"
    },
    {
     "data": {
      "text/html": [
       "<pre style=\"white-space:pre;overflow-x:auto;line-height:normal;font-family:Menlo,'DejaVu Sans Mono',consolas,'Courier New',monospace\"><span style=\"font-weight: bold\"> Trainable params: </span><span style=\"color: #00af00; text-decoration-color: #00af00\">830,135</span> (3.17 MB)\n",
       "</pre>\n"
      ],
      "text/plain": [
       "\u001b[1m Trainable params: \u001b[0m\u001b[38;5;34m830,135\u001b[0m (3.17 MB)\n"
      ]
     },
     "metadata": {},
     "output_type": "display_data"
    },
    {
     "data": {
      "text/html": [
       "<pre style=\"white-space:pre;overflow-x:auto;line-height:normal;font-family:Menlo,'DejaVu Sans Mono',consolas,'Courier New',monospace\"><span style=\"font-weight: bold\"> Non-trainable params: </span><span style=\"color: #00af00; text-decoration-color: #00af00\">256</span> (1.00 KB)\n",
       "</pre>\n"
      ],
      "text/plain": [
       "\u001b[1m Non-trainable params: \u001b[0m\u001b[38;5;34m256\u001b[0m (1.00 KB)\n"
      ]
     },
     "metadata": {},
     "output_type": "display_data"
    }
   ],
   "source": [
    "def build_crnn(input_shape, num_classes):\n",
    "    inp = layers.Input(shape=input_shape, name='image')\n",
    "    x = layers.Conv2D(64, (3,3), activation='relu', padding='same')(inp)\n",
    "    x = layers.MaxPooling2D((2,2))(x)\n",
    "    x = layers.Conv2D(64, (3,3), activation='relu', padding='same')(x)\n",
    "    x = layers.MaxPooling2D((2,2))(x)\n",
    "    x = layers.Conv2D(128, (3,3), activation='relu', padding='same')(x)\n",
    "    x = layers.BatchNormalization()(x)  # Opcional, mejora estabilidad\n",
    "    x = layers.MaxPooling2D((2,1))(x)  # Reduce solo altura\n",
    "\n",
    "    #new_shape = (IMAGE_WIDTH // 4, (IMAGE_HEIGHT // 4) * 64)\n",
    "    new_shape = (input_shape[1] // 4, (input_shape[0] // 4) * 64)\n",
    "    x = layers.Reshape(target_shape=new_shape)(x)\n",
    "    x = layers.Dense(64, activation='relu')(x)\n",
    "    \n",
    "    # LSTM bidireccional + Dropout\n",
    "    x = layers.Bidirectional(layers.LSTM(256, return_sequences=True, dropout=0.3))(x)\n",
    "    x = layers.Dropout(0.4)(x)\n",
    "    #out = layers.Dense(num_classes+1, activation='softmax')(x)  # +1 para el 'blank' de CTC\n",
    "    out = layers.Dense(num_classes, activation='softmax')(x)\n",
    "    return models.Model(inputs=inp, outputs=out)\n",
    "\n",
    "def ctc_lambda_func(args):\n",
    "    y_pred, labels, input_length, label_length = args\n",
    "    return tf.keras.backend.ctc_batch_cost(labels, y_pred, input_length, label_length)\n",
    "\n",
    "# Modelo base (para inferencia)\n",
    "#crnn_model = build_crnn((IMAGE_HEIGHT, IMAGE_WIDTH, 1), len(ALPHABET))\n",
    "crnn_model = build_crnn((32, 128, 1), num_classes)\n",
    "\n",
    "# Entradas para CTC\n",
    "labels_in = layers.Input(name='labels', shape=[MAX_LABEL_LEN], dtype='int32')\n",
    "input_length_in = layers.Input(name='input_length', shape=[1], dtype='int32')\n",
    "label_length_in = layers.Input(name='label_length', shape=[1], dtype='int32')\n",
    "ctc_loss = layers.Lambda(ctc_lambda_func, output_shape=(1,), name='ctc')(\n",
    "    [crnn_model.output, labels_in, input_length_in, label_length_in])\n",
    "\n",
    "ctc_model = models.Model(\n",
    "    inputs=[crnn_model.input, labels_in, input_length_in, label_length_in],\n",
    "    outputs=ctc_loss\n",
    ")\n",
    "\n",
    "ctc_model.compile(optimizer='adam', loss={'ctc': lambda y_true, y_pred: y_pred})\n",
    "ctc_model.summary()\n",
    "\n",
    "\n"
   ]
  },
  {
   "cell_type": "code",
   "execution_count": 17,
   "id": "30b1935d-2db8-4d4a-88f6-5b4d1b6cc62b",
   "metadata": {},
   "outputs": [
    {
     "name": "stdout",
     "output_type": "stream",
     "text": [
      "Input shape del modelo: [(None, 32, 128, 1), (None, 24), (None, 1), (None, 1)]\n"
     ]
    }
   ],
   "source": [
    "print(\"Input shape del modelo:\", ctc_model.input_shape)"
   ]
  },
  {
   "cell_type": "code",
   "execution_count": 18,
   "id": "bc71f61b-ebbf-4989-b795-73ef02418c1f",
   "metadata": {},
   "outputs": [
    {
     "name": "stdout",
     "output_type": "stream",
     "text": [
      "== DEBUG SHAPES ==\n",
      "Modelo espera input_shape: (None, 32, 128, 1)\n",
      "Shape del primer batch de imágenes (X): (6, 32, 128, 1)\n",
      "Shape de X: (6, 32, 128, 1)\n",
      "Shape de Y: (6, 24)\n",
      "Shape de input_length: (6, 1)\n",
      "Shape de label_length: (6, 1)\n",
      "===================\n"
     ]
    }
   ],
   "source": [
    "# ---- DEBUG SHAPES ----\n",
    "print(\"== DEBUG SHAPES ==\")\n",
    "print(\"Modelo espera input_shape:\", crnn_model.input_shape)\n",
    "\n",
    "try:\n",
    "    batch = train_gen[0][0][0]  # Primer batch de imágenes\n",
    "    print(\"Shape del primer batch de imágenes (X):\", batch.shape)\n",
    "except Exception as e:\n",
    "    print(\"Error obteniendo el batch del generador:\", e)\n",
    "\n",
    "# Opcional: verifica shape de un ejemplo individual\n",
    "try:\n",
    "    (X, Y, input_length, label_length), _ = train_gen[0]\n",
    "    print(\"Shape de X:\", X.shape)\n",
    "    print(\"Shape de Y:\", Y.shape)\n",
    "    print(\"Shape de input_length:\", input_length.shape)\n",
    "    print(\"Shape de label_length:\", label_length.shape)\n",
    "except Exception as e:\n",
    "    print(\"Error obteniendo shapes de batch completo:\", e)\n",
    "print(\"===================\")\n"
   ]
  },
  {
   "cell_type": "markdown",
   "id": "bb2d9a4c-3cf0-4bd5-9b59-a86b2e5bea72",
   "metadata": {},
   "source": [
    "### Entrenamiento"
   ]
  },
  {
   "cell_type": "code",
   "execution_count": 25,
   "id": "9c7297d6-49a5-4f32-95aa-971cfc1bd6d6",
   "metadata": {
    "scrolled": true
   },
   "outputs": [
    {
     "name": "stdout",
     "output_type": "stream",
     "text": [
      "Epoch 1/20\n",
      "\u001b[1m24/24\u001b[0m \u001b[32m━━━━━━━━━━━━━━━━━━━━\u001b[0m\u001b[37m\u001b[0m \u001b[1m5s\u001b[0m 204ms/step - loss: 40.5214 - val_loss: 45.1750\n",
      "Epoch 2/20\n",
      "\u001b[1m24/24\u001b[0m \u001b[32m━━━━━━━━━━━━━━━━━━━━\u001b[0m\u001b[37m\u001b[0m \u001b[1m4s\u001b[0m 169ms/step - loss: 39.9738 - val_loss: 44.4643\n",
      "Epoch 3/20\n",
      "\u001b[1m24/24\u001b[0m \u001b[32m━━━━━━━━━━━━━━━━━━━━\u001b[0m\u001b[37m\u001b[0m \u001b[1m4s\u001b[0m 178ms/step - loss: 40.1924 - val_loss: 43.2456\n",
      "Epoch 4/20\n",
      "\u001b[1m24/24\u001b[0m \u001b[32m━━━━━━━━━━━━━━━━━━━━\u001b[0m\u001b[37m\u001b[0m \u001b[1m4s\u001b[0m 169ms/step - loss: 39.4141 - val_loss: 44.0082\n",
      "Epoch 5/20\n",
      "\u001b[1m24/24\u001b[0m \u001b[32m━━━━━━━━━━━━━━━━━━━━\u001b[0m\u001b[37m\u001b[0m \u001b[1m4s\u001b[0m 185ms/step - loss: 38.1984 - val_loss: 42.7525\n",
      "Epoch 6/20\n",
      "\u001b[1m24/24\u001b[0m \u001b[32m━━━━━━━━━━━━━━━━━━━━\u001b[0m\u001b[37m\u001b[0m \u001b[1m4s\u001b[0m 174ms/step - loss: 39.4390 - val_loss: 44.7752\n",
      "Epoch 7/20\n",
      "\u001b[1m24/24\u001b[0m \u001b[32m━━━━━━━━━━━━━━━━━━━━\u001b[0m\u001b[37m\u001b[0m \u001b[1m4s\u001b[0m 170ms/step - loss: 39.2194 - val_loss: 43.9231\n",
      "Epoch 8/20\n",
      "\u001b[1m24/24\u001b[0m \u001b[32m━━━━━━━━━━━━━━━━━━━━\u001b[0m\u001b[37m\u001b[0m \u001b[1m4s\u001b[0m 168ms/step - loss: 34.3625 - val_loss: 43.5602\n",
      "Epoch 9/20\n",
      "\u001b[1m24/24\u001b[0m \u001b[32m━━━━━━━━━━━━━━━━━━━━\u001b[0m\u001b[37m\u001b[0m \u001b[1m4s\u001b[0m 169ms/step - loss: 40.0707 - val_loss: 43.9207\n",
      "Epoch 10/20\n",
      "\u001b[1m24/24\u001b[0m \u001b[32m━━━━━━━━━━━━━━━━━━━━\u001b[0m\u001b[37m\u001b[0m \u001b[1m4s\u001b[0m 160ms/step - loss: 37.4945 - val_loss: 43.3644\n",
      "Epoch 11/20\n",
      "\u001b[1m24/24\u001b[0m \u001b[32m━━━━━━━━━━━━━━━━━━━━\u001b[0m\u001b[37m\u001b[0m \u001b[1m4s\u001b[0m 174ms/step - loss: 36.7674 - val_loss: 44.7974\n",
      "Epoch 12/20\n",
      "\u001b[1m24/24\u001b[0m \u001b[32m━━━━━━━━━━━━━━━━━━━━\u001b[0m\u001b[37m\u001b[0m \u001b[1m4s\u001b[0m 166ms/step - loss: 38.0002 - val_loss: 47.4997\n",
      "Epoch 13/20\n",
      "\u001b[1m24/24\u001b[0m \u001b[32m━━━━━━━━━━━━━━━━━━━━\u001b[0m\u001b[37m\u001b[0m \u001b[1m4s\u001b[0m 165ms/step - loss: 33.7799 - val_loss: 43.8816\n",
      "Epoch 14/20\n",
      "\u001b[1m24/24\u001b[0m \u001b[32m━━━━━━━━━━━━━━━━━━━━\u001b[0m\u001b[37m\u001b[0m \u001b[1m4s\u001b[0m 159ms/step - loss: 35.9687 - val_loss: 43.9563\n",
      "Epoch 15/20\n",
      "\u001b[1m24/24\u001b[0m \u001b[32m━━━━━━━━━━━━━━━━━━━━\u001b[0m\u001b[37m\u001b[0m \u001b[1m4s\u001b[0m 165ms/step - loss: 34.5296 - val_loss: 44.1705\n",
      "Epoch 16/20\n",
      "\u001b[1m24/24\u001b[0m \u001b[32m━━━━━━━━━━━━━━━━━━━━\u001b[0m\u001b[37m\u001b[0m \u001b[1m4s\u001b[0m 162ms/step - loss: 33.3487 - val_loss: 45.0534\n",
      "Epoch 17/20\n",
      "\u001b[1m24/24\u001b[0m \u001b[32m━━━━━━━━━━━━━━━━━━━━\u001b[0m\u001b[37m\u001b[0m \u001b[1m4s\u001b[0m 166ms/step - loss: 29.7693 - val_loss: 44.7163\n",
      "Epoch 18/20\n",
      "\u001b[1m24/24\u001b[0m \u001b[32m━━━━━━━━━━━━━━━━━━━━\u001b[0m\u001b[37m\u001b[0m \u001b[1m4s\u001b[0m 163ms/step - loss: 32.1125 - val_loss: 43.7763\n",
      "Epoch 19/20\n",
      "\u001b[1m24/24\u001b[0m \u001b[32m━━━━━━━━━━━━━━━━━━━━\u001b[0m\u001b[37m\u001b[0m \u001b[1m4s\u001b[0m 161ms/step - loss: 30.9124 - val_loss: 45.9851\n",
      "Epoch 20/20\n",
      "\u001b[1m24/24\u001b[0m \u001b[32m━━━━━━━━━━━━━━━━━━━━\u001b[0m\u001b[37m\u001b[0m \u001b[1m4s\u001b[0m 166ms/step - loss: 31.0066 - val_loss: 45.2537\n"
     ]
    },
    {
     "name": "stderr",
     "output_type": "stream",
     "text": [
      "WARNING:absl:You are saving your model as an HDF5 file via `model.save()` or `keras.saving.save_model(model)`. This file format is considered legacy. We recommend using instead the native Keras format, e.g. `model.save('my_model.keras')` or `keras.saving.save_model(model, 'my_model.keras')`. \n"
     ]
    }
   ],
   "source": [
    "EPOCHS = 20\n",
    "from tensorflow.keras.callbacks import EarlyStopping\n",
    "\n",
    "history = ctc_model.fit(\n",
    "    train_gen,\n",
    "    validation_data=val_gen,\n",
    "    epochs=EPOCHS\n",
    ")\n",
    "crnn_model.save('ocr_crnn_model_boxes.h5')\n"
   ]
  },
  {
   "cell_type": "code",
   "execution_count": 26,
   "id": "c6c6adf9",
   "metadata": {},
   "outputs": [
    {
     "data": {
      "image/png": "[encoded data removed]",
      "text/plain": [
       "<Figure size 640x480 with 1 Axes>"
      ]
     },
     "metadata": {},
     "output_type": "display_data"
    }
   ],
   "source": [
    "import matplotlib.pyplot as plt\n",
    "\n",
    "plt.plot(history.history['loss'], label='Entrenamiento')\n",
    "if 'val_loss' in history.history:\n",
    "    plt.plot(history.history['val_loss'], label='Validación')\n",
    "plt.title('Evolución del Loss')\n",
    "plt.xlabel('Época')\n",
    "plt.ylabel('Loss')\n",
    "plt.legend()\n",
    "plt.grid(True)\n",
    "plt.show()"
   ]
  },
  {
   "cell_type": "code",
   "execution_count": 23,
   "id": "f0df5c47-ca2e-48c4-91f4-4203364bba12",
   "metadata": {},
   "outputs": [
    {
     "name": "stderr",
     "output_type": "stream",
     "text": [
      "WARNING:absl:No training configuration found in the save file, so the model was *not* compiled. Compile it manually.\n"
     ]
    }
   ],
   "source": [
    "from tensorflow.keras.models import load_model\n",
    "\n",
    "def decode_batch(preds, alphabet=ALPHABET):\n",
    "    out = tf.keras.backend.ctc_decode(preds, \n",
    "            input_length=np.ones(preds.shape[0])*preds.shape[1])[0][0].numpy()\n",
    "    return [''.join([alphabet[c-1] for c in seq if c > 0 and c <= len(alphabet)]) for seq in out]\n",
    "\n",
    "def ctc_lambda_func(args):\n",
    "    y_pred, labels, input_length, label_length = args\n",
    "    return tf.keras.backend.ctc_batch_cost(labels, y_pred, input_length, label_length)\n",
    "\n",
    "def predict_text(image_path, model_path='ocr_crnn_model_boxes.h5'):\n",
    "    crnn_model = load_model(model_path)\n",
    "    img = cv2.imread(image_path, cv2.IMREAD_GRAYSCALE)\n",
    "    img = cv2.resize(img, (IMAGE_WIDTH, IMAGE_HEIGHT)).astype('float32') / 255.0\n",
    "    img = np.expand_dims(img, axis=(0, -1))\n",
    "    crnn_model.compile(optimizer='adam', loss={'ctc': lambda y_true, y_pred: y_pred})\n",
    "    preds = crnn_model.predict(img)\n",
    "    text = decode_batch(preds)[0]\n",
    "    return text\n",
    "\n",
    "\n",
    "model = load_model('ocr_crnn_model_boxes.h5')"
   ]
  },
  {
   "cell_type": "code",
   "execution_count": 24,
   "id": "5ddb3c90-7f43-485c-ab81-cad1f8a81cc6",
   "metadata": {},
   "outputs": [
    {
     "name": "stderr",
     "output_type": "stream",
     "text": [
      "WARNING:absl:No training configuration found in the save file, so the model was *not* compiled. Compile it manually.\n"
     ]
    },
    {
     "name": "stdout",
     "output_type": "stream",
     "text": [
      "\u001b[1m1/1\u001b[0m \u001b[32m━━━━━━━━━━━━━━━━━━━━\u001b[0m\u001b[37m\u001b[0m \u001b[1m1s\u001b[0m 818ms/step\n"
     ]
    },
    {
     "data": {
      "text/plain": [
       "''"
      ]
     },
     "execution_count": 24,
     "metadata": {},
     "output_type": "execute_result"
    }
   ],
   "source": [
    "predict_text('276.jpg')"
   ]
  }
 ],
 "metadata": {
  "kernelspec": {
   "display_name": "Python [conda env:base] *",
   "language": "python",
   "name": "conda-base-py"
  },
  "language_info": {
   "codemirror_mode": {
    "name": "ipython",
    "version": 3
   },
   "file_extension": ".py",
   "mimetype": "text/x-python",
   "name": "python",
   "nbconvert_exporter": "python",
   "pygments_lexer": "ipython3",
   "version": "3.12.7"
  }
 },
 "nbformat": 4,
 "nbformat_minor": 5
}
